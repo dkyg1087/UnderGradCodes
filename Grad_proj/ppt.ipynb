{
 "metadata": {
  "language_info": {
   "codemirror_mode": {
    "name": "ipython",
    "version": 3
   },
   "file_extension": ".py",
   "mimetype": "text/x-python",
   "name": "python",
   "nbconvert_exporter": "python",
   "pygments_lexer": "ipython3",
   "version": "3.7.6-final"
  },
  "orig_nbformat": 2,
  "kernelspec": {
   "name": "Python 3.7.6 64-bit ('base': conda)",
   "display_name": "Python 3.7.6 64-bit ('base': conda)",
   "metadata": {
    "interpreter": {
     "hash": "d71b46adc045dc266d76bf863c41704038796277397a722f815225575bfc4d64"
    }
   }
  }
 },
 "nbformat": 4,
 "nbformat_minor": 2,
 "cells": [
  {
   "cell_type": "code",
   "execution_count": 33,
   "metadata": {},
   "outputs": [
    {
     "output_type": "execute_result",
     "data": {
      "text/plain": [
       "12"
      ]
     },
     "metadata": {},
     "execution_count": 33
    }
   ],
   "source": [
    "improt threading\n",
    "def func():\n",
    "    global num,lock\n",
    "    lock.acquire()\n",
    "    num=num+1\n",
    "num=10\n",
    "lock=threading.Lock()\n",
    "thread1=threading.Thread(target=func)\n",
    "thread2=threading.Thread(target=func)\n",
    "thread1.start()\n",
    "thread2.start()\n",
    "thread2.join()\n",
    "thread1.join()\n",
    "num"
   ]
  },
  {
   "cell_type": "code",
   "execution_count": 4,
   "metadata": {},
   "outputs": [
    {
     "output_type": "stream",
     "name": "stdout",
     "text": [
      "   1. 110年度有線廣播電視事業發展基金附屬單位預算案資料集上架公告\n   2. 109年度有線廣播電視事業發展基金附屬單位預算資料集上架公告\n   3. 經濟部所屬國營事業機構新進人員性別統計表資料集上架公告\n   4. 本會業務統計-統計調查資料集上架公告\n   5. 本會業務統計-統計資料視覺化查詢資料集上架公告\n   6. 109年度臺東縣社區照顧關懷據點資料集上架公告\n   7. 109年度臺東縣家庭暴力及性侵害防治中心資料集上架公告\n   8. 109年度臺東縣日間照顧中心資料集上架公告\n   9. 109年度臺東縣輔具服務單位資料集上架公告\n  10. 109年度臺東縣婦女福利服務中心資料集上架公告\n  11. 109年度臺東縣老人文康、福利服務中心資料集上架公告\n  12. 109年度臺東縣老人福利機構資料集上架公告\n  13. 109年度臺東縣公私協力及私立托嬰中心資料集上架公告\n  14. 109年度臺東縣公私協力托育資源中心資料集上架公告\n  15. 109年度臺東縣身心障礙日間服務機構資料集上架公告\n   1. 2020/10/22\n   2. 2020/10/22\n   3. 2020/10/22\n   4. 2020/10/21\n   5. 2020/10/21\n   6. 2020/10/21\n   7. 2020/10/21\n   8. 2020/10/21\n   9. 2020/10/21\n  10. 2020/10/21\n  11. 2020/10/21\n  12. 2020/10/21\n  13. 2020/10/21\n  14. 2020/10/21\n  15. 2020/10/21\n"
     ]
    }
   ],
   "source": []
  },
  {
   "cell_type": "code",
   "execution_count": null,
   "metadata": {},
   "outputs": [],
   "source": []
  }
 ]
}